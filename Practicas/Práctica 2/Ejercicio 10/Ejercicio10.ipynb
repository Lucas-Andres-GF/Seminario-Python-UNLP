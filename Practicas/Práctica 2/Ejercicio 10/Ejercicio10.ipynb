{
 "cells": [
  {
   "cell_type": "markdown",
   "metadata": {},
   "source": [
    "# **Seminario de Python - Práctica 2**\n"
   ]
  },
  {
   "cell_type": "markdown",
   "metadata": {},
   "source": [
    "## **Enunciado**\n",
    "\n",
    "### 10. Trabajando con los contenidos de los archivos que pueden acceder en el curso:\n",
    "### • nombres\n",
    "### • eval1\n",
    "### • eval2\n",
    "\n",
    "### Manipule estos archivos para realizar lo siguiente:\n",
    "### • Generar una estructura con los nombres de los estudiantes y la suma de ambas notas.\n",
    "### • Calcular el promedio de las notas totales e informar que alumnos obtuvieron menos que el promedio."
   ]
  },
  {
   "cell_type": "markdown",
   "metadata": {},
   "source": [
    "## *Resolución* "
   ]
  },
  {
   "cell_type": "code",
   "execution_count": 2,
   "metadata": {},
   "outputs": [
    {
     "name": "stdout",
     "output_type": "stream",
     "text": [
      "Alumnos\n",
      "Agustin - nota: 111 \n",
      "Alan - nota: 155 \n",
      "Andrés - nota: 100 \n",
      "Ariadna - nota: 108 \n",
      "Bautista - nota: 99 \n",
      "CAROLINA - nota: 134 \n",
      "CESAR - nota: 78 \n",
      "David - nota: 121 \n",
      "Diego - nota: 33 \n",
      "Dolores - nota: 53 \n",
      "DYLAN - nota: 74 \n",
      "ELIANA - nota: 13 \n",
      "Emanuel - nota: 48 \n",
      "Fabián - nota: 101 \n",
      "Facundo - nota: 128 \n",
      "FEDERICO - nota: 106 \n",
      "GONZALO - nota: 76 \n",
      "Gregorio - nota: 90 \n",
      "Ignacio - nota: 21 \n",
      "Jonathan - nota: 62 \n",
      "Jorge - nota: 79 \n",
      "JOSE - nota: 100 \n",
      "JUAN - nota: 68 \n",
      "Juan - nota: 112 \n",
      "Julian - nota: 87 \n",
      "Julieta - nota: 146 \n",
      "LAUTARO - nota: 148 \n",
      "Leonel - nota: 55 \n",
      "LUIS - nota: 140 \n",
      "Luis - nota: 109 \n",
      "Marcos - nota: 103 \n",
      "María - nota: 110 \n",
      "MATEO - nota: 137 \n",
      "Matias - nota: 114 \n",
      "Nicolás - nota: 65 \n",
      "NICOLÁS - nota: 22 \n",
      "Noelia - nota: 105 \n",
      "Pablo - nota: 99 \n",
      "Priscila - nota: 24 \n",
      "TOMAS - nota: 139 \n",
      "Tomás - nota: 126 \n",
      "Ulises - nota: 120 \n",
      "Yanina - nota: 84 \n",
      "El promedio general es: 93.09\n",
      "Alumnos que no superan el promedio:\n",
      "-CESAR-\n",
      "-Diego-\n",
      "-Dolores-\n",
      "-DYLAN-\n",
      "-ELIANA-\n",
      "-Emanuel-\n",
      "-GONZALO-\n",
      "-Gregorio-\n",
      "-Ignacio-\n",
      "-Jonathan-\n",
      "-Jorge-\n",
      "-JUAN-\n",
      "-Julian-\n",
      "-Leonel-\n",
      "-Nicolás-\n",
      "-NICOLÁS-\n",
      "-Priscila-\n",
      "-Yanina-\n"
     ]
    }
   ],
   "source": [
    "from typing import Callable\n",
    "\n",
    "def obtener_nombres (archivo)-> list[str]:\n",
    "    name = archivo.read().replace(\",\",\"\").replace(\"'\",\"\").replace(\" \",\"\").split()\n",
    "    archivo.close()\n",
    "    return name\n",
    "\n",
    "def obtener_notas (archivo)-> list[str]:\n",
    "    name = archivo.read().replace(\",\",\" \").replace(\"\\n\",\" \").strip().split()\n",
    "    archivo.close()\n",
    "    return name\n",
    "\n",
    "def procesar_archivo (ruta: str,funcion:Callable):\n",
    "    archivo = open(ruta,\"r\",encoding=\"utf-8\")\n",
    "    resultado = funcion(archivo)\n",
    "    archivo.close()\n",
    "    return resultado\n",
    "\n",
    "def promedio (alumnos:dict)-> float:\n",
    "    suma = 0\n",
    "    for x in alumnos:\n",
    "        suma += alumnos [x]\n",
    "    prom = (suma / len(alumnos))\n",
    "    return prom\n",
    "\n",
    "def no_superan (alumnos:dict): \n",
    "    prom = promedio(alumnos)\n",
    "    print(f\"El promedio general es: {prom:.2f}\")\n",
    "    print (\"Alumnos que no superan el promedio:\")\n",
    "    for a in alumnos:\n",
    "        if (alumnos[a] < prom ):\n",
    "            print(f\"-{a}-\") \n",
    "\n",
    "nombres = procesar_archivo(\"nombres_1.txt\",obtener_nombres) \n",
    "\n",
    "notas_1 = procesar_archivo(\"eval1.txt\",obtener_notas)    \n",
    "\n",
    "notas_2 = procesar_archivo(\"eval2.txt\",obtener_notas)    \n",
    "\n",
    "alumnos = {}\n",
    "for nombre, n1,n2 in zip(nombres,notas_1,notas_2):\n",
    "    alumnos[nombre] = int (n1) + int(n2)\n",
    "\n",
    "print(\"Alumnos\")\n",
    "for nombre,nota in alumnos.items():\n",
    "    print(f\"{nombre} - nota: {nota} \")\n",
    "    \n",
    "#print (f\"El promedio es {promedio(alumnos):.2f}\") #Obtener unicamente el promedio\n",
    "no_superan(alumnos)"
   ]
  },
  {
   "cell_type": "markdown",
   "metadata": {},
   "source": [
    "### **1**. Abrir los archivos de textos para poder utilizarlos. para esto defini un función procesarArchivo, la cual resive el nombre del archivo en disco y una función anteriormente definida que se le desea hacer al mismo, devolviendo así el contenido del archivo en una lista de String para trabajar.   \n",
    "\n",
    "### Ejemplo: \n",
    "### ***nombre_variable = procesar_archivo(\"nombre_de_archivo.txt\", funcion )*** "
   ]
  },
  {
   "cell_type": "markdown",
   "metadata": {},
   "source": [
    "---"
   ]
  },
  {
   "cell_type": "markdown",
   "metadata": {},
   "source": [
    "### **2**. Existen 2 operaciones las cuales \"Limpian\" los archivos, ***obtener_nombres*** y ***obtener_notas*** dejando por medio de reemplazos, Splits y demás métodos, únicamente el contenido.  "
   ]
  },
  {
   "cell_type": "markdown",
   "metadata": {},
   "source": [
    "---"
   ]
  },
  {
   "cell_type": "markdown",
   "metadata": {},
   "source": [
    "### **3**. Una vez poseemos el contenido de los archivos empezamos a trabajar. \n",
    "### Debía elegir una estructura de datos adecuada, en este caso opté por un diccionario, lo inicialice vacío.  \n",
    "### Con la funcion **Zip**, recorrí los 3 iterables a la vez quedandome con el dato de la misma linea de cada uno, almacenando el Nombre como clave y la suma de las 2 notas como valor, recordar que debí aplicar un ***cast*** de ***str*** a ***int*** para aplicar la suma. "
   ]
  },
  {
   "cell_type": "markdown",
   "metadata": {},
   "source": [
    "---"
   ]
  },
  {
   "cell_type": "markdown",
   "metadata": {},
   "source": [
    "### **4**. Teniendo la estructura de datos, obtengo lo pedido.\n",
    "### Para sacar el promedio, defino una función la cual recorre el diccionario obteniendo la suma total de todas las notas y devolviendo la de la misma con la cantidad de alumnos almacenados. \n",
    "### Por último, en una funcion ***no_superan***, recorriendo la estructura y evaluando con el promedio obtenido anteriormente, obtengo los alumnos que no superan el mismo, mostrándolos en pantalla. "
   ]
  }
 ],
 "metadata": {
  "interpreter": {
   "hash": "bc7c8f39ca4de84fca16f053bc77f2093adb8a68cfb55f13dbcbbffd07ba0aeb"
  },
  "kernelspec": {
   "display_name": "Python 3.10.3 64-bit",
   "language": "python",
   "name": "python3"
  },
  "language_info": {
   "codemirror_mode": {
    "name": "ipython",
    "version": 3
   },
   "file_extension": ".py",
   "mimetype": "text/x-python",
   "name": "python",
   "nbconvert_exporter": "python",
   "pygments_lexer": "ipython3",
   "version": "3.10.3"
  },
  "orig_nbformat": 4
 },
 "nbformat": 4,
 "nbformat_minor": 2
}

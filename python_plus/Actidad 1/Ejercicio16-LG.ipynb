{
 "cells": [
  {
   "cell_type": "markdown",
   "id": "b015a19f",
   "metadata": {},
   "source": [
    "# Actividad 1 por Python plus\n"
   ]
  },
  {
   "cell_type": "markdown",
   "id": "b0d0ad1d",
   "metadata": {},
   "source": [
    "## Parte I: resolvé el siguiente desafío:"
   ]
  },
  {
   "cell_type": "markdown",
   "id": "10d1cd01",
   "metadata": {},
   "source": [
    "EJERCICIO 16: dado el archivo denominado [TOTAL_nuevo.csv](https://archivos.linti.unlp.edu.ar/index.php/s/7zTP1JtN2KKTqYu) que contiene la actividad realizada en las clases  de la materia a través de catedras.linti, se desea generar un archivo con aquellos usuarios que completaron los cuestionarios Evento: Intento de cuestionario visualizado o Intento enviado) desde una dirección de la Facultad. Se considera que esto es así, si la IP comienza con \"163.10.\"."
   ]
  },
  {
   "cell_type": "code",
   "execution_count": 1,
   "id": "5021bb7c",
   "metadata": {},
   "outputs": [
    {
     "name": "stdout",
     "output_type": "stream",
     "text": [
      "c:\\Users\\galla\\Documents\\Seminario-Python-UNLP\\Python Plus\n",
      "c:\\Users\\galla\\Documents\\Seminario-Python-UNLP\\Python Plus\\TOTAL_nuevo.csv\n"
     ]
    }
   ],
   "source": [
    "#Solución\n",
    "import csv\n",
    "import os\n",
    "ruta_del_archivo = \"archivoCSV\"\n",
    "print(os.getcwd())\n",
    "archivo_csv = os.path.join(os.getcwd(),\"TOTAL_nuevo.csv\")\n",
    "print(archivo_csv)\n",
    "users_list = []\n",
    "with open(archivo_csv,encoding='utf-8')as data_base_users:\n",
    "    reader = csv.reader(data_base_users)\n",
    "    for line in reader:\n",
    "        if ((\"Intento enviado\" in line[3])or(\"Intento de cuestionario visualizado\" in line[3])) and (\"163.10.\" in line[5]):\n",
    "            users_list.append(line[1])\n",
    "archivo_users = os.path.join(os.getcwd(),\"Usuarios_requeridos.txt\")\n",
    "users_list = set(users_list)\n",
    "users = open(archivo_users,\"w\")\n",
    "users.write(\"--Usuarios requeridos--\"+ \"\\n\")\n",
    "for user in users_list:    \n",
    "    users.write(\"User:\"+user + \"\\n\")\n",
    "users.close()\n"
   ]
  }
 ],
 "metadata": {
  "kernelspec": {
   "display_name": "Python 3 (ipykernel)",
   "language": "python",
   "name": "python3"
  },
  "language_info": {
   "codemirror_mode": {
    "name": "ipython",
    "version": 3
   },
   "file_extension": ".py",
   "mimetype": "text/x-python",
   "name": "python",
   "nbconvert_exporter": "python",
   "pygments_lexer": "ipython3",
   "version": "3.10.3"
  }
 },
 "nbformat": 4,
 "nbformat_minor": 5
}

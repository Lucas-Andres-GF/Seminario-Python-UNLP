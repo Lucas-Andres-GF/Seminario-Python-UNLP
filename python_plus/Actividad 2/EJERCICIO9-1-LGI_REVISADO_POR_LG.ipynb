{
 "cells": [
  {
   "cell_type": "markdown",
   "id": "14df4a10",
   "metadata": {},
   "source": [
    "# Actividad 1 por Python plus\n"
   ]
  },
  {
   "cell_type": "markdown",
   "id": "eb80dfd8",
   "metadata": {},
   "source": [
    "## Parte I\n",
    "\n",
    "### Solución propuesta por tu compañero/a\n"
   ]
  },
  {
   "cell_type": "markdown",
   "id": "b2c22533",
   "metadata": {},
   "source": [
    "### -- Copiá acá el enunciado a corregir --\n",
    "\n",
    "Incluí también la URL del cuaderno asignado"
   ]
  },
  {
   "cell_type": "markdown",
   "id": "815ed65f",
   "metadata": {},
   "source": [
    "## ***Cuaderno asignado***\n",
    "### https://drive.google.com/file/d/1WPQQx6Csuats3wergBI5hjvQhC-pYwPg/view?usp=sharing"
   ]
  },
  {
   "cell_type": "code",
   "execution_count": 1,
   "id": "ced69cb2",
   "metadata": {
    "scrolled": true
   },
   "outputs": [],
   "source": [
    "#Solución propuesta por tu compañero/a\n",
    "import os\n",
    "import csv\n",
    "\n",
    "ruta_BBB = os.path.join(os.getcwd(),\"BBB_nuevo.csv\")\n",
    "archivo_destino = os.path.join(os.getcwd(),\"vistas_6abril.csv\")\n",
    "\n",
    "with open (ruta_BBB) as datos_entrada:\n",
    "    csvreader = csv.reader(datos_entrada,delimiter=',')\n",
    "    with open (archivo_destino,'x') as salida:\n",
    "        writer=csv.writer(salida)\n",
    "        writer.writerow(csvreader.__next__())\n",
    "        writer.writerows(filter(lambda linea: linea[0][0:9]=='6/04/2022' and linea[2][-5:]=='vista',csvreader))\n"
   ]
  },
  {
   "cell_type": "markdown",
   "id": "1eae6299",
   "metadata": {},
   "source": [
    "## Parte II "
   ]
  },
  {
   "cell_type": "markdown",
   "id": "4e9717da",
   "metadata": {},
   "source": [
    "### Calificá de acuerdo a las siguientes pautas:"
   ]
  },
  {
   "cell_type": "code",
   "execution_count": 2,
   "id": "2762a6c2",
   "metadata": {
    "scrolled": true
   },
   "outputs": [],
   "source": [
    "# Puntos acumulados del trabajo de mi conpañero/a\n",
    "puntos_parte_I = 0"
   ]
  },
  {
   "cell_type": "markdown",
   "id": "fb152d91",
   "metadata": {},
   "source": [
    "1.- **¿El algoritmo para el procesamiento de datos es correcto?:** +5 puntos\n",
    "\n",
    "- Suma 5 puntos si, inpendientemente si define una función o guarda los datos en un archivo como lo pide el enunciado.\n"
   ]
  },
  {
   "cell_type": "code",
   "execution_count": 3,
   "id": "00a9cdca",
   "metadata": {
    "scrolled": true
   },
   "outputs": [],
   "source": [
    "# puntos a sumar de esta consigna:\n",
    "puntos_parte_I += 5"
   ]
  },
  {
   "cell_type": "markdown",
   "id": "43ba367c",
   "metadata": {},
   "source": [
    "2.-**¿Define la función o genera el archivo de acuerdo a lo pedido??**: +10 puntos\n",
    "\n",
    "- Suma 5 puntos: si lo hace pero presenta algún error.\n",
    "\n",
    "- Suma 10 puntos: si está correcto"
   ]
  },
  {
   "cell_type": "markdown",
   "id": "fa69d247",
   "metadata": {},
   "source": [
    "---\n",
    "\n",
    "***Corrección***\n",
    "- Al filtrar el dataset y posterior generar el archivo, copia toda la información de los usuarios; El enunciado únicamente pide los nombres.\n",
    "\n",
    "- Al generar el archivo, no tuvo en cuenta que algunos usuarios se repetían, quedando así en el archivo repetidamente el nombre de varios usuarios.\n",
    "\n",
    "---"
   ]
  },
  {
   "cell_type": "code",
   "execution_count": 4,
   "id": "e3963e5d",
   "metadata": {
    "scrolled": true
   },
   "outputs": [],
   "source": [
    "# puntos a sumar de esta consigna:\n",
    "puntos_parte_I += 5\n"
   ]
  },
  {
   "cell_type": "markdown",
   "id": "e619052f",
   "metadata": {},
   "source": [
    "3.- **Sobre el acceso al archivo de datos:** -10  a 5 puntos\n",
    "\n",
    "- Descuento 5 puntos si lo abre utilizando una ruta absoluta (ejemplo: /home/archivo/archivo.csv)\n",
    "- Descuento 5 puntos si no se cierra el archivo.\n",
    "- Suma 5 puntos si usa adecuadamente la sentencia with."
   ]
  },
  {
   "cell_type": "code",
   "execution_count": 5,
   "id": "b55c9896",
   "metadata": {
    "scrolled": true
   },
   "outputs": [],
   "source": [
    "# puntos a sumar de esta consigna:\n",
    "puntos_parte_I += 5"
   ]
  },
  {
   "cell_type": "markdown",
   "id": "1670ee4b",
   "metadata": {},
   "source": [
    "4.- **Alguna otra falla o detalles que quieras marcar?**: - 5 puntos\n",
    "\n",
    "- Especificá cuál es el error que encontrás"
   ]
  },
  {
   "cell_type": "markdown",
   "id": "7da97b40",
   "metadata": {},
   "source": [
    "---\n",
    "\n",
    "***Sostengo que no son errores pero si***\n",
    "### ***Detalles a remarcar.***\n",
    "\n",
    "- Al abrir el dataset, Le faltaria aclarar el modo de abertura, al igual que el  encoding='utf8' para su buen funcionamiento. \n",
    "\n",
    "- ***En la siguiente sentencia:***  \n",
    "\n",
    "    **writer.writerows(filter(lambda linea: linea[0][0:9]=='6/04/2022' and linea[2][-5:]=='vista',csvreader)**\n",
    "\n",
    "    El uso del slicing es innecesario, además el mismo podría fallar en el caso que la cadena tenga un espacio atrás o adelante. \n",
    "    También, podría pasar que lo que acompañe a \"vista\" no sea una \"Grabación\" e igual lo escriba en el archivo.\n",
    "\n",
    "    Lo correcto sería verificar si la cadena está en esa posición. \n",
    "    quedando también menos ambiguo. \n",
    "\n",
    "    ***Posible solución***\n",
    "    \n",
    "    **writer.writerows(filter(lambda linea: ('6/04/2022' in linea[0]) and ('Grabación vista' in linea[2]),csvreader))**\n",
    "\n",
    "---\n"
   ]
  },
  {
   "cell_type": "code",
   "execution_count": 6,
   "id": "1e985faa",
   "metadata": {
    "scrolled": true
   },
   "outputs": [],
   "source": [
    "# puntos a descontar de esta consigna:\n",
    "puntos_parte_I -= 0"
   ]
  },
  {
   "cell_type": "markdown",
   "id": "50b1c6fc",
   "metadata": {},
   "source": [
    "### Total de puntos de la actividad (parte I):"
   ]
  },
  {
   "cell_type": "code",
   "execution_count": 7,
   "id": "afbe1851",
   "metadata": {
    "scrolled": true
   },
   "outputs": [
    {
     "name": "stdout",
     "output_type": "stream",
     "text": [
      "Puntos actividad 1 - Parte I: 15\n"
     ]
    }
   ],
   "source": [
    "print(f\"Puntos actividad 1 - Parte I: {puntos_parte_I if puntos_parte_I >0 else 0}\")"
   ]
  },
  {
   "cell_type": "markdown",
   "id": "34aa40a5",
   "metadata": {},
   "source": [
    "### ¿Algo más que no fue considerado?"
   ]
  },
  {
   "cell_type": "markdown",
   "id": "1e1f3415",
   "metadata": {},
   "source": [
    "--- Dejá acá tus comentarios ---"
   ]
  },
  {
   "cell_type": "markdown",
   "id": "dc26afe2",
   "metadata": {},
   "source": [
    "## Parte II - Total 40 puntos"
   ]
  },
  {
   "cell_type": "code",
   "execution_count": 8,
   "id": "a397db33",
   "metadata": {
    "scrolled": true
   },
   "outputs": [],
   "source": [
    "# Puntos acumulados de mi parte II- A COMPLETAR POR LA CATEDRA\n",
    "puntos_parte_II = 0"
   ]
  },
  {
   "cell_type": "markdown",
   "id": "93b1dce8",
   "metadata": {},
   "source": [
    "### Corrección de la parte I de mi compañero/a: 10 puntos\n",
    "\n",
    "- Suma 10 puntos si la evaluación realizada es correcta.\n",
    "- Suma 5 puntos si la sección de arhivos está mal evaluada pero el resto es correcta.\n",
    "- Suma 5 puntos si la sección está bien evalauda pero el resto no. "
   ]
  },
  {
   "cell_type": "code",
   "execution_count": 9,
   "id": "8ebab756",
   "metadata": {
    "scrolled": true
   },
   "outputs": [],
   "source": [
    "# Sumo puntos de la sección - A COMPLETAR POR LA CATEDRA\n",
    "puntos_parte_II += 0"
   ]
  },
  {
   "cell_type": "markdown",
   "id": "b6836a8f",
   "metadata": {},
   "source": [
    "### Análisis de la  solución propuesta por mi compañero/a: 10 puntos"
   ]
  },
  {
   "cell_type": "markdown",
   "id": "3631026c",
   "metadata": {},
   "source": [
    "- **¿Qué estructuras de datos usa para recorrer los datos ingresados desde el archivo?** 3 puntos.\n",
    "\n",
    "Escribí tu respuesta acá.\n",
    "\n",
    "Para recorrer los datos ingresados desde el archivos, importa la librería __csv__, la cual cuenta con un método __reader()__, el cual genera un iterador, almacenando los datos,(Como todo iterador, se puede recorrer con while, for y demás); El mismo cuenta con el método __netx__(), para obtener la línea (En este caso el encabezado) y avanzar el puntero al siguiente.   \n",
    "\n",
    "---\n",
    "\n",
    "- **¿Usa expresiones lambda, funciones map, filter, reduce u otra similar? ¿Están correctamente definidas?** 2 puntos.\n",
    "\n",
    "Escribí tu respuesta acá.\n",
    "\n",
    "Sí, usa una __lambda__ , combinada con la función __filter__. En mi opinión correctamente utilizadas (ahorrando líneas), quedando así un código simple y estético.  \n",
    "\n",
    "---\n",
    "- **Recorre el archivo más de lo necesario para resolver el ejercicio? Justificar!!** 5 puntos si justifica.\n",
    "\n",
    "Escribí tu respuesta acá.\n",
    "\n",
    "No, recorre el archivo una única vez, filtrando y 'recuperando' al mismo tiempo lo solicitado. \n",
    "\n",
    "---\n"
   ]
  },
  {
   "cell_type": "code",
   "execution_count": 12,
   "id": "d63dc7e9",
   "metadata": {
    "scrolled": true
   },
   "outputs": [],
   "source": [
    "# Sumo puntos de la sección - A COMPLETAR POR LA CATEDRA\n",
    "puntos_parte_II += 0"
   ]
  },
  {
   "cell_type": "markdown",
   "id": "29fdc855",
   "metadata": {},
   "source": [
    "### Escribí una solución alternativa a la planteada por tu compañero/a: 20 puntos\n",
    "Esta solución será evaluada de acuerdo a las mismas pautas establecidas en este cuaderno."
   ]
  },
  {
   "cell_type": "code",
   "execution_count": 1,
   "id": "9a1bc0dc",
   "metadata": {
    "scrolled": true
   },
   "outputs": [],
   "source": [
    "# Solución alternativa\n",
    "import csv\n",
    "import os\n",
    "\n",
    "ruta_csv = os.path.join(os.getcwd(),'BBB_nuevo.csv')\n",
    "usuarios = set() #Guardaremos los usuarios en un set, para no obtener repetidos.\n",
    "with open (ruta_csv,'r',encoding='utf-8') as dataset: \n",
    "    reader = csv.reader (dataset,delimiter=','); \n",
    "    reader.__next__ #Salteamos el encabezado \n",
    "    for linea in reader : #Para cambiar a la solución de mi compañero, filtro el iterable recorriendolo con un for y consultando con un if. \n",
    "        if ('6/04/2022' in linea[0]) and ('Grabación vista' in linea[2]):\n",
    "            usuarios.add(linea[1])\n",
    "\n",
    "ruta_archivo_usuarios = os.path.join(os.getcwd(),'asistencia_abril6.txt')\n",
    "with open (ruta_archivo_usuarios,'x',encoding='utf-8') as archivo_usuarios:\n",
    "    archivo_usuarios.write('-Asistencia del dia 6 de abril- \\n')\n",
    "    for user in usuarios: \n",
    "        archivo_usuarios.write(user + '\\n')"
   ]
  },
  {
   "cell_type": "code",
   "execution_count": 11,
   "id": "b61dae7c",
   "metadata": {
    "scrolled": true
   },
   "outputs": [],
   "source": [
    "# Sumo puntos de la sección - A COMPLETAR POR LA CATEDRA\n",
    "puntos_parte_II += 0"
   ]
  },
  {
   "cell_type": "markdown",
   "id": "b0ba1701",
   "metadata": {},
   "source": [
    "### Total puntos de la actividad"
   ]
  },
  {
   "cell_type": "code",
   "execution_count": 13,
   "id": "8248b652",
   "metadata": {
    "scrolled": true
   },
   "outputs": [
    {
     "name": "stdout",
     "output_type": "stream",
     "text": [
      "Puntos actividad 1 - Parte II: 0\n"
     ]
    }
   ],
   "source": [
    "print(f\"Puntos actividad 1 - Parte II: {puntos_parte_II if puntos_parte_II >0 else 0}\")"
   ]
  }
 ],
 "metadata": {
  "kernelspec": {
   "display_name": "Python 3 (ipykernel)",
   "language": "python",
   "name": "python3"
  },
  "language_info": {
   "codemirror_mode": {
    "name": "ipython",
    "version": 3
   },
   "file_extension": ".py",
   "mimetype": "text/x-python",
   "name": "python",
   "nbconvert_exporter": "python",
   "pygments_lexer": "ipython3",
   "version": "3.10.3"
  }
 },
 "nbformat": 4,
 "nbformat_minor": 5
}

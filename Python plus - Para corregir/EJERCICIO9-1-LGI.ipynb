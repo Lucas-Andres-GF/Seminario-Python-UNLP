{
 "cells": [
  {
   "cell_type": "markdown",
   "id": "b015a19f",
   "metadata": {},
   "source": [
    "# Actividad 1 por Python plus\n"
   ]
  },
  {
   "cell_type": "markdown",
   "id": "b0d0ad1d",
   "metadata": {},
   "source": [
    "## Parte I: resolvé el siguiente desafío:"
   ]
  },
  {
   "cell_type": "markdown",
   "id": "4befc6c3",
   "metadata": {},
   "source": [
    "EJERCICIO 9: dado el archivo denominado [BBB_nuevo.csv](https://archivos.linti.unlp.edu.ar/index.php/s/q9b3rCrlhOS1yWU) que contiene los accesos al recurso BigBlueButton que usamos para las clases virtuales de la materia, se desea generar una archivo con todos aquellos usuarios que visualizaron la grabación el día 6 de abril."
   ]
  },
  {
   "cell_type": "code",
   "execution_count": 22,
   "id": "5021bb7c",
   "metadata": {},
   "outputs": [],
   "source": [
    "#Solución\n",
    "import os\n",
    "import csv\n",
    "\n",
    "ruta_BBB = os.path.join(os.getcwd(),\"BBB_nuevo.csv\")\n",
    "archivo_destino = os.path.join(os.getcwd(),\"vistas_6abril.csv\")\n",
    "\n",
    "with open (ruta_BBB,'r',encoding='utf-8') as datos_entrada:\n",
    "    csvreader = csv.reader(datos_entrada,delimiter=',')\n",
    "    with open (archivo_destino,'x',encoding='utf8') as salida:\n",
    "        writer=csv.writer(salida)\n",
    "        writer.writerow(csvreader.__next__())\n",
    "        #writer.writerows(filter(lambda linea: linea[0][0:9]=='6/04/2022' and linea[2][-5:]=='vista',csvreader))\n",
    "        writer.writerows(filter(lambda linea: ('6/04/2022' in linea[0]) and ('Grabación vista' in linea[2]),csvreader))\n"
   ]
  }
 ],
 "metadata": {
  "kernelspec": {
   "display_name": "Python 3 (ipykernel)",
   "language": "python",
   "name": "python3"
  },
  "language_info": {
   "codemirror_mode": {
    "name": "ipython",
    "version": 3
   },
   "file_extension": ".py",
   "mimetype": "text/x-python",
   "name": "python",
   "nbconvert_exporter": "python",
   "pygments_lexer": "ipython3",
   "version": "3.10.3"
  }
 },
 "nbformat": 4,
 "nbformat_minor": 5
}
